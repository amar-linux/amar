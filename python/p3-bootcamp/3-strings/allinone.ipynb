{
 "cells": [
  {
   "cell_type": "code",
   "execution_count": 1,
   "metadata": {},
   "outputs": [
    {
     "name": "stdout",
     "output_type": "stream",
     "text": [
      "[b'Kudremukha', b'is', b'the', b'name', b'of', b'a', b'mountain', b'range', b'and', b'an', b'individual', b'mountain', b'peak', b'located', b'in', b'Chikmagalur', b'district,', b'in', b'Karnataka,', b'India.', b'It', b'is', b'also', b'the', b'name', b'of', b'a', b'small', b'hill', b'station', b'and', b'iron', b'ore-mining', b'town', b'situated', b'near', b'the', b'mountain,', b'about', b'20', b'kilometres', b'from', b'Kalasa', b'in', b'Kalasa', b'Taluk.', b'The', b'name', b'Kuduremukha', b'literally', b'means', b'\"horse-faced\"', b'in', b'Kannada', b'and', b'refers', b'to', b'a', b'particular', b'picturesque', b'view', b'of', b'a', b'side', b'of', b'the', b'mountain', b'that', b'resembles', b'a', b\"horse's\", b'face.', b'It', b'was', b'also', b'referred', b'to', b'as', b\"'Samseparvata',\", b'historically', b'since', b'it', b'was', b'approached', b'from', b'Samse', b'village.', b'Kuduremukha', b'is', b\"Karnataka's\", b'2nd', b'highest', b'peak', b'after', b'Mullayanagiri', b'and', b'26th', b'highest', b'peak', b'in', b'western', b'ghats.', b'The', b'nearest', b'International', b'Airport', b'is', b'at', b'Mangalore', b'which', b'is', b'at', b'a', b'distance', b'of', b'99', b'kilometres.[1]', b'The', b'Kudremukha', b'National', b'Park', b'in', b'the', b'Western', b'Ghats', b'is', b'a', b'part', b'of', b'the', b\"world's\", b'38', b'\\xe2\\x80\\x98hottest', b'hotspots\\xe2\\x80\\x99', b'of', b'biological', b'diversity,', b'a', b'UNESCO', b'World', b'Heritage', b'Site.[2]']\n"
     ]
    }
   ],
   "source": [
    "from urllib.request import urlopen\n",
    "with urlopen ('http://192.168.29.111/m.txt') as story:\n",
    "    story_words = []\n",
    "    for line in story:\n",
    "        line_words = line.split()\n",
    "        for word in line_words:\n",
    "            story_words.append(word)\n",
    "            \n",
    "print(story_words)"
   ]
  },
  {
   "cell_type": "code",
   "execution_count": 2,
   "metadata": {},
   "outputs": [
    {
     "name": "stdout",
     "output_type": "stream",
     "text": [
      "[b'Kudremukha', b'is', b'the', b'name', b'of', b'a', b'mountain', b'range', b'and', b'an', b'individual', b'mountain', b'peak', b'located', b'in', b'Chikmagalur', b'district,', b'in', b'Karnataka,', b'India.', b'It', b'is', b'also', b'the', b'name', b'of', b'a', b'small', b'hill', b'station', b'and', b'iron', b'ore-mining', b'town', b'situated', b'near', b'the', b'mountain,', b'about', b'20', b'kilometres', b'from', b'Kalasa', b'in', b'Kalasa', b'Taluk.', b'The', b'name', b'Kuduremukha', b'literally', b'means', b'\"horse-faced\"', b'in', b'Kannada', b'and', b'refers', b'to', b'a', b'particular', b'picturesque', b'view', b'of', b'a', b'side', b'of', b'the', b'mountain', b'that', b'resembles', b'a', b\"horse's\", b'face.', b'It', b'was', b'also', b'referred', b'to', b'as', b\"'Samseparvata',\", b'historically', b'since', b'it', b'was', b'approached', b'from', b'Samse', b'village.', b'Kuduremukha', b'is', b\"Karnataka's\", b'2nd', b'highest', b'peak', b'after', b'Mullayanagiri', b'and', b'26th', b'highest', b'peak', b'in', b'western', b'ghats.', b'The', b'nearest', b'International', b'Airport', b'is', b'at', b'Mangalore', b'which', b'is', b'at', b'a', b'distance', b'of', b'99', b'kilometres.[1]', b'The', b'Kudremukha', b'National', b'Park', b'in', b'the', b'Western', b'Ghats', b'is', b'a', b'part', b'of', b'the', b\"world's\", b'38', b'\\xe2\\x80\\x98hottest', b'hotspots\\xe2\\x80\\x99', b'of', b'biological', b'diversity,', b'a', b'UNESCO', b'World', b'Heritage', b'Site.[2]']\n"
     ]
    }
   ],
   "source": [
    "from urllib.request import urlopen\n",
    "with urlopen ('http://192.168.29.111/m.txt') as story:\n",
    "    story_words = []\n",
    "    for line in story:\n",
    "        line_words = line.split()\n",
    "        for word in line_words:\n",
    "            story_words.append(word)\n",
    "            \n",
    "print(story_words)"
   ]
  },
  {
   "cell_type": "code",
   "execution_count": null,
   "metadata": {},
   "outputs": [],
   "source": []
  }
 ],
 "metadata": {
  "kernelspec": {
   "display_name": "Python 3",
   "language": "python",
   "name": "python3"
  },
  "language_info": {
   "codemirror_mode": {
    "name": "ipython",
    "version": 3
   },
   "file_extension": ".py",
   "mimetype": "text/x-python",
   "name": "python",
   "nbconvert_exporter": "python",
   "pygments_lexer": "ipython3",
   "version": "3.12.3"
  }
 },
 "nbformat": 4,
 "nbformat_minor": 2
}
